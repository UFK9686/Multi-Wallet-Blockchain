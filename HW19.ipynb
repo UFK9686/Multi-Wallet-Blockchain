{
 "cells": [
  {
   "cell_type": "code",
   "execution_count": 1,
   "id": "1cc0f902",
   "metadata": {},
   "outputs": [],
   "source": [
    "# Import dependencies\n",
    "import subprocess\n",
    "import json\n",
    "from dotenv import load_dotenv\n",
    "import os\n",
    "\n",
    "# Import constants.py and necessary functions from bit and web3\n",
    "from bit import *\n",
    "from web3 import Web3\n",
    "from constants import *\n",
    "from pathlib import Path\n",
    "from getpass import getpass\n",
    "from dotenv import load_dotenv\n",
    "from eth_account import Account \n",
    "from bit.network import NetworkAPI\n",
    "from web3 import Web3, HTTPProvider\n",
    "from web3.middleware import geth_poa_middleware\n",
    "from bit import Key, PrivateKey, PrivateKeyTestnet\n",
    "\n",
    "\n"
   ]
  },
  {
   "cell_type": "code",
   "execution_count": 2,
   "id": "fb5be3ad",
   "metadata": {},
   "outputs": [],
   "source": [
    "w3 = Web3(Web3.HTTPProvider(\"http://127.0.0.1:8545\"))\n",
    "w3.middleware_onion.inject(geth_poa_middleware, layer=0)\n"
   ]
  },
  {
   "cell_type": "code",
   "execution_count": 3,
   "id": "ff8a73dc",
   "metadata": {},
   "outputs": [],
   "source": [
    "# Load and set environment variables\n",
    "load_dotenv()\n",
    "mnemonic=os.getenv(\"mnemonic\")"
   ]
  },
  {
   "cell_type": "code",
   "execution_count": 4,
   "id": "3f79cbc4",
   "metadata": {},
   "outputs": [],
   "source": [
    "# Create a function called `derive_wallets`\n",
    "def derive_wallets(coin=BTC, mnemonic=mnemonic, depth=3):\n",
    "    command = f'php ./derive -g --mnemonic=\"{mnemonic}\" --cols=all --coin={coin} --numderive={depth} --format=json'\n",
    "    p = subprocess.Popen(command, stdout=subprocess.PIPE, shell=True)\n",
    "    output, err = p.communicate()\n",
    "    p_status = p.wait()\n",
    "    return json.loads(output)\n"
   ]
  },
  {
   "cell_type": "code",
   "execution_count": 5,
   "id": "70c546b3",
   "metadata": {},
   "outputs": [],
   "source": [
    "from pprint import pprint "
   ]
  },
  {
   "cell_type": "code",
   "execution_count": null,
   "id": "8ca6067b",
   "metadata": {},
   "outputs": [],
   "source": []
  },
  {
   "cell_type": "code",
   "execution_count": 6,
   "id": "7ffa3d2e",
   "metadata": {},
   "outputs": [
    {
     "name": "stdout",
     "output_type": "stream",
     "text": [
      "{'btc-test': [{'address': 'mkwqRYLAfeoMJnnb5A9WegujdggyBeEPGD',\n",
      "               'index': 0,\n",
      "               'path': \"m/44'/1'/0'/0/0\",\n",
      "               'privkey': 'cUMT7ptJgxrwSm9s5zSUCKUhSNVq1UC9v31vgoSusyukAciNMdDt',\n",
      "               'pubkey': '02dcb7a11c7172966e58679c0cb207bfb95d119cc55f9fb318d0a522aaff5b9577',\n",
      "               'pubkeyhash': '3b8d4adb98c1922686a0b9b3f10ee0f1ef7a2eb8',\n",
      "               'xprv': 'tprv8khhNkzGYHzyhzgCwAKEf4xVvkBbV2vWqBQpybEMhGHivv3WgwhnjdCguDwQ1ujRnN5JWEM8q8nE8zjHSrthSTvMcxb6V575s5x2zT3q1Pk',\n",
      "               'xpub': 'tpubDHPjXB2WgfgebThzpoyq4UccVmhXeN7RQV1cG7Gf7Y67mQJHKLXNv7pZ5M2WvzFPpQyVgMB9znNEFMefiFvgn7r72wMott5xBJksEZUfWX5'},\n",
      "              {'address': 'mmUQuAvBYqVpKzayhaYvnJe9VuwkRdSWPu',\n",
      "               'index': 1,\n",
      "               'path': \"m/44'/1'/0'/0/1\",\n",
      "               'privkey': 'cVj1Q51vqgtBEYokpcb6RtjMwVbAsaCmrQRyjMTHFm5rGoziYe44',\n",
      "               'pubkey': '024fca815b769b3e6920eb31081de336536e0a0dcba4955b6d7773b8acc205e0b4',\n",
      "               'pubkeyhash': '4155b748ac4f668e327a8b7a7c928241ba09eb85',\n",
      "               'xprv': 'tprv8khhNkzGYHzyj6e6K8iKuPTCw6YLNRA3tRKCphDT4Yis5AKoPbwFLH7zqay3WqqcsnHCwJZedosPPAXcrHehSKV7MBy57KVPQxyQ3tHyq4g',\n",
      "               'xpub': 'tpubDHPjXB2WgfgecZftCnNvJo7KW84GXkLxTiuz7DFkUpXFueaa1zkqWmjs1gg5EbtryQSJ81NQyoDwvXGWvis4AtWXeZXh9juHNWhUCGZwfRJ'},\n",
      "              {'address': 'mxYAxY575hg56rGtU3n6754GfqCKRxzvep',\n",
      "               'index': 2,\n",
      "               'path': \"m/44'/1'/0'/0/2\",\n",
      "               'privkey': 'cMzhL3wx92ETkcCDyTt8ouz8pXQnp7RBpE3pHu1637Sn16qVW9vo',\n",
      "               'pubkey': '03bdfba2cebb0d9fa135451ec068d05e6ddf07d8c79c13afa46b4658b3942cf087',\n",
      "               'pubkeyhash': 'bab5200f7b800fc1fda9a7449df8b99064501931',\n",
      "               'xprv': 'tprv8khhNkzGYHzymedp2vc5YrDY9Wo8pZHMTSMLVs5QX2JRV3iaHkTveCATn7hwZehVuu3HV986zzRHULnTF3dUB4gior6YYpv39vDdGmZtvo5',\n",
      "               'xpub': 'tpubDHPjXB2Wgfgef7fbvaGfxFseiYK4ytUG2jx7nP7hwJ6pKXyLv9HWpgnKxHwpFx9yRGdHH7nRWwNVZJ39Neu7znX2LCPrWVgVDEN53WphdpV'}],\n",
      " 'eth': [{'address': '0x02194a55DDA1B029F70220D53f099F38c629ab36',\n",
      "          'index': 0,\n",
      "          'path': \"m/44'/60'/0'/0/0\",\n",
      "          'privkey': '0xd36d0f9ff2f6dc80208cd19e0b7d939f11bd1a63d10c38cdc1c58f4dbbc95edc',\n",
      "          'pubkey': '03b21e2e1bc0b74c298d113c5c305c80cc76e67c4ff29e9b31028ea17328f8bba8',\n",
      "          'pubkeyhash': 'a85e006b705f905c3e0e82485a33bf5bae8da52e',\n",
      "          'xprv': 'xprvA2UAbkzcn2ntbeUWWeryfF3uDhgNm4dauGWnvnDix6CsvCzQuvLXjSRM7JTtTTWK9sX95nFVJwYhVGxXqPToYqhz27ChLeVmsCQQXUKHxdM',\n",
      "          'xpub': 'xpub6FTX1GXWcQMBp8YycgPz2NzdmjWsAXMSGVSPjAdLWRjro1KZTTenHEjpxbBjGGK7wisPZe4htBommydMu8aPzi3Y94xHEdcN3ANiCP23RiY'},\n",
      "         {'address': '0x3dFb64A5AdAe2aDece2E252FE5E889d61Ef75122',\n",
      "          'index': 1,\n",
      "          'path': \"m/44'/60'/0'/0/1\",\n",
      "          'privkey': '0x81b180541f1ae73a48976095a58a342611fcedac9c00758510c0f3c0c63e5710',\n",
      "          'pubkey': '03b64da52e7b23d110002752118ecc97052e6637d916794bef1eaac7bba0a54d3b',\n",
      "          'pubkeyhash': '5d352e57cab65ca61793104f70e4b0f4543527aa',\n",
      "          'xprv': 'xprvA2UAbkzcn2ntezNrVAWRNF7yPRSuWDGEu7CdrwoNhYEjuJdeqhFC9zpZ9Uomp4Tuzf47cQ661EzPLErPP9nSvAHoboLqYTTpNd1xfeFGuUP',\n",
      "          'xpub': 'xpub6FTX1GXWcQMBsUTKbC3RjP4hwTHPufz6GL8EfLCzFsmin6xoPEZSho92znBTHFATi3RFHmhJLpwwR7P9KXcN9f4jAs4YUHRkkyg7spW5kZe'},\n",
      "         {'address': '0xdeA9cE1d814f6dAaEe900D864B7f1974Ab2f0A44',\n",
      "          'index': 2,\n",
      "          'path': \"m/44'/60'/0'/0/2\",\n",
      "          'privkey': '0x815b3bc011096f513a633ed35581e057423680405381db490576d48b95e1ab15',\n",
      "          'pubkey': '03e58f0070091a989dbede3de95458ddd960381f1846f4414dcc896edc04907735',\n",
      "          'pubkeyhash': 'f1ba997dd9013d7140ac9367cf66ed197c1413b6',\n",
      "          'xprv': 'xprvA2UAbkzcn2ntgZeXYbMHsrr7QnjdtoitxZDqhxkueuRiE6Eb1xqHUjriskG2mrFftCL29AUAj85B22PtvpSqspSWzLp9tzAQ9CsVKiW84m6',\n",
      "          'xpub': 'xpub6FTX1GXWcQMBu3izectJEznqxpa8JGSkKn9SWMAXDExh6tZjZW9Y2YBCj3zfvXnQGoSrYoft3EGeXcURDCp9Mm9Rg4S3hug3GW2UeTFcFsQ'}]}\n"
     ]
    }
   ],
   "source": [
    "# Creates a dictionary object called coins to store the output from `derive_wallets`.\n",
    "coins = {\n",
    "    ETH: derive_wallets(coin=ETH),\n",
    "    BTCTEST: derive_wallets(coin=BTCTEST),\n",
    "}\n",
    "\n",
    "pprint(coins)"
   ]
  },
  {
   "cell_type": "code",
   "execution_count": 7,
   "id": "544d2a03",
   "metadata": {},
   "outputs": [],
   "source": [
    "# Create a function called `priv_key_to_account` that converts privkey strings to account objects.\n",
    "\n",
    "def priv_key_to_account(coin, priv_key):\n",
    "    if coin == 'BTCTEST':\n",
    "        return PrivateKeyTestnet(priv_key)\n",
    "    elif coin == 'ETH':\n",
    "        return Account.privateKeyToAccount(priv_key)\n"
   ]
  },
  {
   "cell_type": "code",
   "execution_count": 8,
   "id": "f93688a6",
   "metadata": {},
   "outputs": [
    {
     "name": "stdout",
     "output_type": "stream",
     "text": [
      "0xd36d0f9ff2f6dc80208cd19e0b7d939f11bd1a63d10c38cdc1c58f4dbbc95edc\n",
      "cVj1Q51vqgtBEYokpcb6RtjMwVbAsaCmrQRyjMTHFm5rGoziYe44\n"
     ]
    }
   ],
   "source": [
    "eth_PrivateKey = coins[\"eth\"][0]['privkey']\n",
    "btc_PrivateKey = coins['btc-test'][1]['privkey']\n",
    "print(eth_PrivateKey)\n",
    "print(btc_PrivateKey)"
   ]
  },
  {
   "cell_type": "code",
   "execution_count": 9,
   "id": "47f74403",
   "metadata": {},
   "outputs": [
    {
     "name": "stdout",
     "output_type": "stream",
     "text": [
      "<eth_account.signers.local.LocalAccount object at 0x0000027CA64F90A0>\n",
      "<PrivateKeyTestnet: mmUQuAvBYqVpKzayhaYvnJe9VuwkRdSWPu>\n"
     ]
    }
   ],
   "source": [
    "def priv_key_to_account(coin, priv_key):\n",
    "    if coin == ETH:\n",
    "        return Account.privateKeyToAccount(priv_key)\n",
    "    if coin == BTCTEST:\n",
    "        return PrivateKeyTestnet(priv_key)\n",
    "    \n",
    "eth_acc = priv_key_to_account(ETH,eth_PrivateKey)\n",
    "btc_acc = priv_key_to_account(BTCTEST,btc_PrivateKey)\n",
    "print(eth_acc)\n",
    "print(btc_acc)"
   ]
  },
  {
   "cell_type": "code",
   "execution_count": 10,
   "id": "d972b39e",
   "metadata": {},
   "outputs": [],
   "source": [
    "# Create a function called `create_tx` that creates an unsigned transaction appropriate metadata.\n",
    "def create_tx(coin, account, recipient, amount):\n",
    "    global tx_data\n",
    "    if coin ==ETH:\n",
    "        gasEstimate = w3.eth.estimateGas(\n",
    "            {\"from\": account.address, \"to\": recipient, \"value\": amount}\n",
    "        )\n",
    "        tx_data = {\n",
    "            \"to\": recipient,\n",
    "            \"from\": account.address,\n",
    "            \"value\": amount,\n",
    "            \"gasPrice\": w3.eth.gasPrice,\n",
    "            \"gas\": gasEstimate,\n",
    "            \"nonce\": w3.eth.getTransactionCount(account.address)\n",
    "        }\n",
    "        return tx_data\n",
    "\n",
    "    if coin == BTCTEST:\n",
    "        return PrivateKeyTestnet.prepare_transaction(account.address, [(recipient, amount, BTC)]) \n"
   ]
  },
  {
   "cell_type": "code",
   "execution_count": 11,
   "id": "19378ea9",
   "metadata": {},
   "outputs": [],
   "source": [
    "# Create a function called `send_tx` that calls `create_tx`, signs and sends the transaction.\n",
    "def send_tx(coin, account, recipient, amount):\n",
    "    if coin == \"eth\": \n",
    "        trx_eth = create_tx(coin,account, recipient, amount)\n",
    "        sign = account.signTransaction(trx_eth)\n",
    "        result = w3.eth.sendRawTransaction(sign.rawTransaction)\n",
    "        print(result.hex())\n",
    "        return result.hex()\n",
    "    else:\n",
    "        trx_btctest= create_tx(coin,account,recipient,amount)\n",
    "        sign_trx_btctest = account.sign_transaction(trx_btctest)\n",
    "        from bit.network import NetworkAPI\n",
    "        NetworkAPI.broadcast_tx_testnet(sign_trx_btctest)       \n",
    "        return sign_trx_btctest"
   ]
  },
  {
   "cell_type": "code",
   "execution_count": 12,
   "id": "3df37f91",
   "metadata": {},
   "outputs": [
    {
     "name": "stdout",
     "output_type": "stream",
     "text": [
      "{\"unspents\":[{\"amount\":456884,\"confirmations\":8,\"script\":\"76a9144155b748ac4f668e327a8b7a7c928241ba09eb8588ac\",\"txid\":\"98179357d7bbdac3eac47237f266693c6f514b137eea3b187338d4f31bdf760a\",\"txindex\":1,\"type\":\"p2pkh\",\"vsize\":148,\"segwit\":false,\"sequence\":4294967295}],\"outputs\":[[\"mkwqRYLAfeoMJnnb5A9WegujdggyBeEPGD\",36900],[\"mmUQuAvBYqVpKzayhaYvnJe9VuwkRdSWPu\",396932]]}\n"
     ]
    }
   ],
   "source": [
    "# create BTC transaction\n",
    "print(create_tx(BTCTEST,btc_acc,\"mkwqRYLAfeoMJnnb5A9WegujdggyBeEPGD\", 0.000369))"
   ]
  },
  {
   "cell_type": "code",
   "execution_count": 13,
   "id": "1cda8a94",
   "metadata": {},
   "outputs": [
    {
     "name": "stdout",
     "output_type": "stream",
     "text": [
      "01000000010a76df1bf3d43873183bea7e134b516f3c6966f23772c4eac3dabbd757931798010000006a47304402206ec5286ef6cf612acb4c72b0f0646985c880d54eebeb8fe982cd7f07d6aa713c02205395d92a56f16318bf9b4c0e2702060dc12eb25bf302aa986154165142cccabd0121024fca815b769b3e6920eb31081de336536e0a0dcba4955b6d7773b8acc205e0b4ffffffff0224900000000000001976a9143b8d4adb98c1922686a0b9b3f10ee0f1ef7a2eb888ac840e0600000000001976a9144155b748ac4f668e327a8b7a7c928241ba09eb8588ac00000000\n"
     ]
    }
   ],
   "source": [
    "# send BTC transaction\n",
    "print(send_tx(BTCTEST,btc_acc,'mkwqRYLAfeoMJnnb5A9WegujdggyBeEPGD',0.000369))\n"
   ]
  },
  {
   "cell_type": "code",
   "execution_count": 14,
   "id": "eb57222a",
   "metadata": {},
   "outputs": [
    {
     "data": {
      "text/plain": [
       "45000000000000000000"
      ]
     },
     "execution_count": 14,
     "metadata": {},
     "output_type": "execute_result"
    }
   ],
   "source": [
    "# ETH transactions\n",
    "#check  balance of the account\n",
    "w3.eth.getBalance(\"0x02194a55DDA1B029F70220D53f099F38c629ab36\")\n",
    "\n",
    "\n"
   ]
  },
  {
   "cell_type": "code",
   "execution_count": 20,
   "id": "385d3367",
   "metadata": {},
   "outputs": [
    {
     "data": {
      "text/plain": [
       "{'to': '0x3dFb64A5AdAe2aDece2E252FE5E889d61Ef75122',\n",
       " 'from': '0x02194a55DDA1B029F70220D53f099F38c629ab36',\n",
       " 'value': 25000000000000000000,\n",
       " 'gasPrice': 20000000000,\n",
       " 'gas': 21000,\n",
       " 'nonce': 2}"
      ]
     },
     "execution_count": 20,
     "metadata": {},
     "output_type": "execute_result"
    }
   ],
   "source": [
    "# create eth transaction\n",
    "create_tx(ETH,eth_acc,\"0x3dFb64A5AdAe2aDece2E252FE5E889d61Ef75122\", 25000000000000000000)\n"
   ]
  },
  {
   "cell_type": "code",
   "execution_count": 21,
   "id": "161a7572",
   "metadata": {},
   "outputs": [
    {
     "name": "stdout",
     "output_type": "stream",
     "text": [
      "0xd0be5c8c26b49872f9aaec8becbf359e47580901e9707bf6a4071e17a5cf6bf3\n"
     ]
    },
    {
     "data": {
      "text/plain": [
       "'0xd0be5c8c26b49872f9aaec8becbf359e47580901e9707bf6a4071e17a5cf6bf3'"
      ]
     },
     "execution_count": 21,
     "metadata": {},
     "output_type": "execute_result"
    }
   ],
   "source": [
    "# send eth transaction\n",
    "send_tx(ETH, eth_acc,\"0x3dFb64A5AdAe2aDece2E252FE5E889d61Ef75122\", 25000000000000000000)"
   ]
  },
  {
   "cell_type": "code",
   "execution_count": null,
   "id": "99d1c374",
   "metadata": {},
   "outputs": [],
   "source": []
  }
 ],
 "metadata": {
  "kernelspec": {
   "display_name": "Python 3",
   "language": "python",
   "name": "python3"
  },
  "language_info": {
   "codemirror_mode": {
    "name": "ipython",
    "version": 3
   },
   "file_extension": ".py",
   "mimetype": "text/x-python",
   "name": "python",
   "nbconvert_exporter": "python",
   "pygments_lexer": "ipython3",
   "version": "3.8.5"
  }
 },
 "nbformat": 4,
 "nbformat_minor": 5
}
